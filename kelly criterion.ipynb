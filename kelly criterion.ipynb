{
 "metadata": {
  "name": "",
  "signature": "sha256:016ae8f16fcb0c9ba33389c5ec940ca4cd1bc5796fe5e7172704fec526a30bbd"
 },
 "nbformat": 3,
 "nbformat_minor": 0,
 "worksheets": [
  {
   "cells": [
    {
     "cell_type": "code",
     "collapsed": false,
     "input": [
      "%pylab inline"
     ],
     "language": "python",
     "metadata": {},
     "outputs": [
      {
       "output_type": "stream",
       "stream": "stdout",
       "text": [
        "Populating the interactive namespace from numpy and matplotlib\n"
       ]
      }
     ],
     "prompt_number": 1
    },
    {
     "cell_type": "code",
     "collapsed": false,
     "input": [
      "from collections import Counter"
     ],
     "language": "python",
     "metadata": {},
     "outputs": [],
     "prompt_number": 2
    },
    {
     "cell_type": "code",
     "collapsed": false,
     "input": [
      "#from numpy.random import rand"
     ],
     "language": "python",
     "metadata": {},
     "outputs": [],
     "prompt_number": 3
    },
    {
     "cell_type": "code",
     "collapsed": false,
     "input": [
      "def game(wager, odds=0.5, scale=1.0):\n",
      "    if rand() < odds:\n",
      "        return scale * wager\n",
      "    else:\n",
      "        return -wager"
     ],
     "language": "python",
     "metadata": {},
     "outputs": [],
     "prompt_number": 4
    },
    {
     "cell_type": "code",
     "collapsed": false,
     "input": [
      "def play(wager, scale=1.0, odds=0.5, bankroll=100, count=10, game=game, wager_rate=None):\n",
      "    for j in xrange(count):\n",
      "        if bankroll <= 0:\n",
      "            return 0\n",
      "        if wager_rate is not None:\n",
      "            wager = wager_rate * bankroll\n",
      "        bankroll += game(wager=min(bankroll, wager), scale=scale, odds=odds)\n",
      "    return bankroll"
     ],
     "language": "python",
     "metadata": {},
     "outputs": [],
     "prompt_number": 5
    },
    {
     "cell_type": "code",
     "collapsed": false,
     "input": [
      "def sim(wager, scale=1.0, odds=0.5, iterations=10000, bankroll=100, count=10, game=game, wager_rate=None):\n",
      "    return array([play(wager, scale=scale, odds=odds, bankroll=bankroll, count=count, game=game, wager_rate=wager_rate) for j in xrange(iterations)])"
     ],
     "language": "python",
     "metadata": {},
     "outputs": [],
     "prompt_number": 6
    },
    {
     "cell_type": "code",
     "collapsed": false,
     "input": [
      "wagers = linspace(0,1,101)\n",
      "medians, means, stds = zip(*[(median(sims), mean(sims), std(sims)) for sims in (sim(wager=None, wager_rate=wager, odds=.55, scale=1., iterations=1000, count=200) for wager in wagers)])\n",
      "means=array(means)\n",
      "stds=array(stds)\n",
      "plot(wagers, medians)\n",
      "#plot(wagers, log1p(means))\n",
      "#plot(wagers, means+stds)\n",
      "#plot(wagers, means-stds)\n",
      "xlabel('wager')\n",
      "ylabel('median outcome')"
     ],
     "language": "python",
     "metadata": {},
     "outputs": [
      {
       "metadata": {},
       "output_type": "pyout",
       "prompt_number": 7,
       "text": [
        "<matplotlib.text.Text at 0x7fdda15ae990>"
       ]
      },
      {
       "metadata": {},
       "output_type": "display_data",
       "png": "[encoded data removed]",
       "text": [
        "<matplotlib.figure.Figure at 0x7fdda15f0810>"
       ]
      }
     ],
     "prompt_number": 7
    },
    {
     "cell_type": "code",
     "collapsed": false,
     "input": [],
     "language": "python",
     "metadata": {},
     "outputs": [],
     "prompt_number": 7
    }
   ],
   "metadata": {}
  }
 ]
}